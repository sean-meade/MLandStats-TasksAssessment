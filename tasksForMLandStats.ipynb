{
 "cells": [
  {
   "cell_type": "code",
   "execution_count": 44,
   "metadata": {},
   "outputs": [
    {
     "name": "stdout",
     "output_type": "stream",
     "text": [
      "0.1\n",
      "34.9\n",
      "34.9\n"
     ]
    }
   ],
   "source": [
    "inputNo = 1234\n",
    "decimal = 1\n",
    "decimalPlace = 1\n",
    "\n",
    "for i in range(101):\n",
    "    if (i * i == inputNo):\n",
    "        print(\"this is a perfect square\")\n",
    "    elif ((i * i < inputNo) and (((i + 1) * (i + 1)) > inputNo)):\n",
    "        square = i\n",
    "        squarePlus = i + 1\n",
    "        decimal = decimal * 0.1\n",
    "        decimalPlace = decimalPlace + 1\n",
    "        print(decimal)\n",
    "        if decimalPlace == 100:\n",
    "            print((\"maximum number of decimal places reached\"))\n",
    "        elif ((square * square) == inputNo):\n",
    "            print(\"this is a perfect square with a decimal place\")\n",
    "            break\n",
    "        else:\n",
    "            for n in range(0, 10):\n",
    "                newSquare = square\n",
    "                squarePlusNew = square\n",
    "                decimalAddOn = decimal * n\n",
    "                decimalAddOn = decimal * (n + 1)\n",
    "                if (square * square < inputNo):\n",
    "                    newSquare = newSquare + (decimalAddOn)\n",
    "                    squarePlusNew = squarePlusNew - decimalAddOn\n",
    "                    if ((newSquare * newSquare) < inputNo) and ((squarePlusNew * squarePlusNew) < inputNo):\n",
    "                        decimalNumber = n - 1\n",
    "                        square = square + (decimal * decimalNumber)\n",
    "                        print(square)"
   ]
  },
  {
   "cell_type": "code",
   "execution_count": 60,
   "metadata": {},
   "outputs": [
    {
     "name": "stdout",
     "output_type": "stream",
     "text": [
      "35.1\n",
      "35.120000000000005\n",
      "35.12800000000001\n",
      "35.12830000000001\n",
      "35.12833000000001\n",
      "35.12833600000001\n",
      "35.12833610000001\n",
      "35.128336140000016\n",
      "35.128336140000016\n",
      "35.12833614050002\n",
      "35.12833614050002\n",
      "35.12833614050002\n",
      "35.128336140500515\n",
      "35.128336140500586\n",
      "35.128336140500586\n"
     ]
    }
   ],
   "source": [
    "num = 1234\n",
    "squareBase = 0\n",
    "\n",
    "for i in range(1, num):\n",
    "    if (i * i < num) and ((i + 1) * (i + 1) > num):\n",
    "        squareBase = i\n",
    "        \n",
    "decimal = 1\n",
    "deciamlPlace = 0\n",
    "\n",
    "for decPlace in range(1, 101):\n",
    "    deciamlPlace = decimalPlace + 1\n",
    "    decimal = decimal * 0.1\n",
    "    for decNum in range(1, 10):\n",
    "        decimalNumber = decimal * decNum\n",
    "        testSquare = squareBase + round(decimalNumber, decPlace)\n",
    "        if ((testSquare * testSquare) > num):\n",
    "            squareBase = squareBase + (decimal * (decNum - 1))\n",
    "            print(squareBase)\n",
    "            break\n",
    "\n",
    "\n"
   ]
  },
  {
   "cell_type": "code",
   "execution_count": 50,
   "metadata": {},
   "outputs": [
    {
     "name": "stdout",
     "output_type": "stream",
     "text": [
      "35\n",
      "35\n",
      "35\n",
      "35\n",
      "35\n",
      "35\n",
      "35\n",
      "35\n",
      "35\n"
     ]
    }
   ],
   "source": [
    "for n in range(2, 11):\n",
    "    print (squareBase)"
   ]
  },
  {
   "cell_type": "markdown",
   "metadata": {},
   "source": [
    "[1]https://www.w3schools.com/python/ref_func_round.asp (for rounding number)"
   ]
  }
 ],
 "metadata": {
  "kernelspec": {
   "display_name": "Python 3",
   "language": "python",
   "name": "python3"
  },
  "language_info": {
   "codemirror_mode": {
    "name": "ipython",
    "version": 3
   },
   "file_extension": ".py",
   "mimetype": "text/x-python",
   "name": "python",
   "nbconvert_exporter": "python",
   "pygments_lexer": "ipython3",
   "version": "3.8.3"
  }
 },
 "nbformat": 4,
 "nbformat_minor": 4
}
