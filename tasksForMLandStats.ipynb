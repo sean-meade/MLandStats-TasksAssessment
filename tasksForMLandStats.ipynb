{
 "cells": [
  {
   "cell_type": "code",
   "execution_count": 49,
   "metadata": {},
   "outputs": [],
   "source": [
    "inputNo = 1234\n",
    "\n",
    "for i in range(inputNo):\n",
    "    if (i * i == inputNo):\n",
    "        print(i)\n",
    "    elif ((i * i < inputNo) and (((i + 1) * (i + 1)) > inputNo)):\n",
    "        square = i\n",
    "        squarePlus = i + 1\n",
    "        decimal = 1\n",
    "        for m in range(1, 100):\n",
    "            decimal = decimal * 0.1\n",
    "            for n in range(0, 10):\n",
    "                if (square * square == inputNo):\n",
    "                    print(square)\n",
    "                    break\n",
    "                elif (square * square < inputNo) and (squarePlus * squarePlus > inputNo):\n",
    "                    print(decimal)\n",
    "                    square = square + (decimal * n)\n",
    "                    squarePlus = squarePlus + (decimal * (n + 1))\n",
    "        print(square)\n",
    "                    \n",
    "                    \n",
    "                "
   ]
  },
  {
   "cell_type": "code",
   "execution_count": 48,
   "metadata": {},
   "outputs": [
    {
     "data": {
      "text/plain": [
       "1246.0900000000004"
      ]
     },
     "execution_count": 48,
     "metadata": {},
     "output_type": "execute_result"
    }
   ],
   "source": [
    "(35.300000000000004)**2"
   ]
  },
  {
   "cell_type": "code",
   "execution_count": null,
   "metadata": {},
   "outputs": [],
   "source": []
  }
 ],
 "metadata": {
  "kernelspec": {
   "display_name": "Python 3",
   "language": "python",
   "name": "python3"
  },
  "language_info": {
   "codemirror_mode": {
    "name": "ipython",
    "version": 3
   },
   "file_extension": ".py",
   "mimetype": "text/x-python",
   "name": "python",
   "nbconvert_exporter": "python",
   "pygments_lexer": "ipython3",
   "version": "3.8.3"
  }
 },
 "nbformat": 4,
 "nbformat_minor": 4
}
