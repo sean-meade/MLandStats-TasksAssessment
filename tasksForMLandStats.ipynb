{
 "cells": [
  {
   "cell_type": "markdown",
   "metadata": {},
   "source": [
    "# Tasks for Machine Learning & Statistics Module\n",
    "\n",
    "My submission for the solutions to the Tasks Assessment. The author is Seán Meade (G00376471@gmit.ie).\n",
    "\n",
    "***\n",
    "\n",
    "*Modules can't be used to complete the tasks but the following modules are used to explain certain parts and test our code.*"
   ]
  },
  {
   "cell_type": "markdown",
   "metadata": {},
   "source": [
    "`STDEV.P` is used for the whole population and `STDEV.S` is used when you have a sample of the population."
   ]
  },
  {
   "cell_type": "code",
   "execution_count": 1,
   "metadata": {},
   "outputs": [
    {
     "ename": "NameError",
     "evalue": "name 'np' is not defined",
     "output_type": "error",
     "traceback": [
      "\u001b[1;31m---------------------------------------------------------------------------\u001b[0m",
      "\u001b[1;31mNameError\u001b[0m                                 Traceback (most recent call last)",
      "\u001b[1;32m<ipython-input-1-92b0311d54fe>\u001b[0m in \u001b[0;36m<module>\u001b[1;34m\u001b[0m\n\u001b[1;32m----> 1\u001b[1;33m \u001b[0mx\u001b[0m \u001b[1;33m=\u001b[0m \u001b[0mnp\u001b[0m\u001b[1;33m.\u001b[0m\u001b[0marray\u001b[0m\u001b[1;33m(\u001b[0m\u001b[1;33m[\u001b[0m\u001b[1;36m1345\u001b[0m\u001b[1;33m,\u001b[0m \u001b[1;36m1301\u001b[0m\u001b[1;33m,\u001b[0m \u001b[1;36m1368\u001b[0m\u001b[1;33m,\u001b[0m \u001b[1;36m1322\u001b[0m\u001b[1;33m,\u001b[0m \u001b[1;36m1310\u001b[0m\u001b[1;33m,\u001b[0m \u001b[1;36m1370\u001b[0m\u001b[1;33m,\u001b[0m \u001b[1;36m1318\u001b[0m\u001b[1;33m,\u001b[0m \u001b[1;36m1350\u001b[0m\u001b[1;33m,\u001b[0m \u001b[1;36m1303\u001b[0m\u001b[1;33m,\u001b[0m \u001b[1;36m1299\u001b[0m\u001b[1;33m]\u001b[0m\u001b[1;33m)\u001b[0m\u001b[1;33m\u001b[0m\u001b[1;33m\u001b[0m\u001b[0m\n\u001b[0m",
      "\u001b[1;31mNameError\u001b[0m: name 'np' is not defined"
     ]
    }
   ],
   "source": [
    "x = np.array([1345, 1301, 1368, 1322, 1310, 1370, 1318, 1350, 1303, 1299])"
   ]
  },
  {
   "cell_type": "code",
   "execution_count": null,
   "metadata": {},
   "outputs": [],
   "source": [
    "import math"
   ]
  },
  {
   "cell_type": "code",
   "execution_count": null,
   "metadata": {},
   "outputs": [],
   "source": [
    "def stdev_s(x):\n",
    "    top = 0\n",
    "    x = np.array(x)\n",
    "    for i in range(len(x)):\n",
    "        top += (x[i]-np.mean(x))**2\n",
    "    stdev_s = np.sqrt(top/(len(x)-1))\n",
    "    return stdev_s\n",
    "stdev_s(x)"
   ]
  },
  {
   "cell_type": "code",
   "execution_count": null,
   "metadata": {},
   "outputs": [],
   "source": [
    "len(x)-1"
   ]
  },
  {
   "cell_type": "code",
   "execution_count": null,
   "metadata": {},
   "outputs": [],
   "source": [
    "def stdev_p(x):\n",
    "    top = 0\n",
    "    x = np.array(x)\n",
    "    for i in range(len(x)):\n",
    "        top += (x[i]-np.mean(x))**2\n",
    "    stdev_p = np.sqrt(top/(len(x)))\n",
    "    return stdev_p\n",
    "stdev_p(x)"
   ]
  },
  {
   "cell_type": "code",
   "execution_count": null,
   "metadata": {},
   "outputs": [],
   "source": [
    "np.std(x)"
   ]
  },
  {
   "cell_type": "code",
   "execution_count": null,
   "metadata": {},
   "outputs": [],
   "source": [
    "testset = np.random.normal(scale=4.56, size=1000)"
   ]
  },
  {
   "cell_type": "code",
   "execution_count": null,
   "metadata": {},
   "outputs": [],
   "source": [
    "np.std(testset)"
   ]
  },
  {
   "cell_type": "code",
   "execution_count": null,
   "metadata": {},
   "outputs": [],
   "source": [
    "testSubset = testset[:100]"
   ]
  },
  {
   "cell_type": "code",
   "execution_count": null,
   "metadata": {},
   "outputs": [],
   "source": [
    "stdev_s(testset)"
   ]
  },
  {
   "cell_type": "code",
   "execution_count": null,
   "metadata": {},
   "outputs": [],
   "source": [
    "stdev_s(testSubset)"
   ]
  },
  {
   "cell_type": "code",
   "execution_count": null,
   "metadata": {},
   "outputs": [],
   "source": [
    "stdev_p(testset)"
   ]
  },
  {
   "cell_type": "code",
   "execution_count": null,
   "metadata": {},
   "outputs": [],
   "source": [
    "stdev_p(testSubset)"
   ]
  },
  {
   "cell_type": "code",
   "execution_count": null,
   "metadata": {},
   "outputs": [],
   "source": []
  },
  {
   "cell_type": "markdown",
   "metadata": {},
   "source": [
    "k nearest neigbours "
   ]
  },
  {
   "cell_type": "code",
   "execution_count": 2,
   "metadata": {},
   "outputs": [
    {
     "data": {
      "text/plain": [
       "(150, 5)"
      ]
     },
     "execution_count": 2,
     "metadata": {},
     "output_type": "execute_result"
    }
   ],
   "source": [
    "#https://medium.com/@avulurivenkatasaireddy/k-nearest-neighbors-and-implementation-on-iris-data-set-f5817dd33711\n",
    "#https://scikit-learn.org/stable/modules/generated/sklearn.neighbors.KNeighborsClassifier.html\n",
    "#https://pandas.pydata.org/pandas-docs/stable/reference/api/pandas.DataFrame.html\n",
    "    \n",
    "from sklearn import preprocessing\n",
    "import pandas as pd\n",
    "\n",
    "col=['sepal_length','sepal_width','petal_length','petal_width','type']\n",
    "iris=pd.read_csv(\"iris.csv\", names=col)\n",
    "iris.head()\n",
    "iris.shape"
   ]
  },
  {
   "cell_type": "code",
   "execution_count": 3,
   "metadata": {},
   "outputs": [
    {
     "data": {
      "text/plain": [
       "KNeighborsClassifier(weights='distance')"
      ]
     },
     "execution_count": 3,
     "metadata": {},
     "output_type": "execute_result"
    }
   ],
   "source": [
    "from sklearn.neighbors import KNeighborsClassifier\n",
    "\n",
    "X=iris.iloc[:,:4] #all parameters\n",
    "y=iris[\"type\"] #class labels\n",
    "neigh = KNeighborsClassifier(n_neighbors=5, weights='distance')\n",
    "neigh.fit(X, y)\n"
   ]
  },
  {
   "cell_type": "code",
   "execution_count": 4,
   "metadata": {},
   "outputs": [
    {
     "name": "stdout",
     "output_type": "stream",
     "text": [
      "     0    1    2    3\n",
      "0  1.4  3.6  3.4  1.2\n",
      "predicted: ['Iris-setosa']\n",
      "neighbors (array([[3.7067506 , 3.80657326, 3.81706694, 3.8340579 , 3.84317577]]), array([[57,  8, 42, 93, 38]], dtype=int64))\n"
     ]
    }
   ],
   "source": [
    "testSet = [[1.4, 3.6, 3.4, 1.2]]\n",
    "test = pd.DataFrame(testSet)\n",
    "print(test)\n",
    "print(\"predicted:\",neigh.predict(test))\n",
    "print(\"neighbors\",neigh.kneighbors(test))"
   ]
  },
  {
   "cell_type": "code",
   "execution_count": 5,
   "metadata": {},
   "outputs": [
    {
     "data": {
      "text/html": [
       "<div>\n",
       "<style scoped>\n",
       "    .dataframe tbody tr th:only-of-type {\n",
       "        vertical-align: middle;\n",
       "    }\n",
       "\n",
       "    .dataframe tbody tr th {\n",
       "        vertical-align: top;\n",
       "    }\n",
       "\n",
       "    .dataframe thead th {\n",
       "        text-align: right;\n",
       "    }\n",
       "</style>\n",
       "<table border=\"1\" class=\"dataframe\">\n",
       "  <thead>\n",
       "    <tr style=\"text-align: right;\">\n",
       "      <th></th>\n",
       "      <th>sepal_length</th>\n",
       "      <th>sepal_width</th>\n",
       "      <th>petal_length</th>\n",
       "      <th>petal_width</th>\n",
       "    </tr>\n",
       "  </thead>\n",
       "  <tbody>\n",
       "    <tr>\n",
       "      <th>145</th>\n",
       "      <td>6.7</td>\n",
       "      <td>3.0</td>\n",
       "      <td>5.2</td>\n",
       "      <td>2.3</td>\n",
       "    </tr>\n",
       "    <tr>\n",
       "      <th>146</th>\n",
       "      <td>6.3</td>\n",
       "      <td>2.5</td>\n",
       "      <td>5.0</td>\n",
       "      <td>1.9</td>\n",
       "    </tr>\n",
       "    <tr>\n",
       "      <th>147</th>\n",
       "      <td>6.5</td>\n",
       "      <td>3.0</td>\n",
       "      <td>5.2</td>\n",
       "      <td>2.0</td>\n",
       "    </tr>\n",
       "    <tr>\n",
       "      <th>148</th>\n",
       "      <td>6.2</td>\n",
       "      <td>3.4</td>\n",
       "      <td>5.4</td>\n",
       "      <td>2.3</td>\n",
       "    </tr>\n",
       "    <tr>\n",
       "      <th>149</th>\n",
       "      <td>5.9</td>\n",
       "      <td>3.0</td>\n",
       "      <td>5.1</td>\n",
       "      <td>1.8</td>\n",
       "    </tr>\n",
       "  </tbody>\n",
       "</table>\n",
       "</div>"
      ],
      "text/plain": [
       "     sepal_length  sepal_width  petal_length  petal_width\n",
       "145           6.7          3.0           5.2          2.3\n",
       "146           6.3          2.5           5.0          1.9\n",
       "147           6.5          3.0           5.2          2.0\n",
       "148           6.2          3.4           5.4          2.3\n",
       "149           5.9          3.0           5.1          1.8"
      ]
     },
     "execution_count": 5,
     "metadata": {},
     "output_type": "execute_result"
    }
   ],
   "source": [
    "X.tail()"
   ]
  },
  {
   "cell_type": "code",
   "execution_count": 6,
   "metadata": {},
   "outputs": [],
   "source": [
    "X2 = X.iloc[149]\n"
   ]
  },
  {
   "cell_type": "code",
   "execution_count": 30,
   "metadata": {},
   "outputs": [],
   "source": [
    "import numpy as np"
   ]
  },
  {
   "cell_type": "code",
   "execution_count": 35,
   "metadata": {},
   "outputs": [
    {
     "data": {
      "text/html": [
       "<div>\n",
       "<style scoped>\n",
       "    .dataframe tbody tr th:only-of-type {\n",
       "        vertical-align: middle;\n",
       "    }\n",
       "\n",
       "    .dataframe tbody tr th {\n",
       "        vertical-align: top;\n",
       "    }\n",
       "\n",
       "    .dataframe thead th {\n",
       "        text-align: right;\n",
       "    }\n",
       "</style>\n",
       "<table border=\"1\" class=\"dataframe\">\n",
       "  <thead>\n",
       "    <tr style=\"text-align: right;\">\n",
       "      <th></th>\n",
       "      <th>sepal_length</th>\n",
       "      <th>sepal_width</th>\n",
       "      <th>petal_length</th>\n",
       "      <th>petal_width</th>\n",
       "    </tr>\n",
       "  </thead>\n",
       "  <tbody>\n",
       "    <tr>\n",
       "      <th>0</th>\n",
       "      <td>5.9</td>\n",
       "      <td>3.0</td>\n",
       "      <td>5.1</td>\n",
       "      <td>1.8</td>\n",
       "    </tr>\n",
       "  </tbody>\n",
       "</table>\n",
       "</div>"
      ],
      "text/plain": [
       "   sepal_length  sepal_width  petal_length  petal_width\n",
       "0           5.9          3.0           5.1          1.8"
      ]
     },
     "execution_count": 35,
     "metadata": {},
     "output_type": "execute_result"
    }
   ],
   "source": [
    "x1 = pd.DataFrame([[X2.iloc[0], X2.iloc[1], X2.iloc[2], X2.iloc[3]]], columns=['sepal_length','sepal_width','petal_length','petal_width'])\n",
    "x1"
   ]
  },
  {
   "cell_type": "code",
   "execution_count": null,
   "metadata": {},
   "outputs": [],
   "source": []
  },
  {
   "cell_type": "code",
   "execution_count": 17,
   "metadata": {},
   "outputs": [
    {
     "data": {
      "text/html": [
       "<div>\n",
       "<style scoped>\n",
       "    .dataframe tbody tr th:only-of-type {\n",
       "        vertical-align: middle;\n",
       "    }\n",
       "\n",
       "    .dataframe tbody tr th {\n",
       "        vertical-align: top;\n",
       "    }\n",
       "\n",
       "    .dataframe thead th {\n",
       "        text-align: right;\n",
       "    }\n",
       "</style>\n",
       "<table border=\"1\" class=\"dataframe\">\n",
       "  <thead>\n",
       "    <tr style=\"text-align: right;\">\n",
       "      <th></th>\n",
       "      <th>sepal_length</th>\n",
       "      <th>sepal_width</th>\n",
       "      <th>petal_length</th>\n",
       "      <th>petal_width</th>\n",
       "    </tr>\n",
       "  </thead>\n",
       "  <tbody>\n",
       "    <tr>\n",
       "      <th>144</th>\n",
       "      <td>6.7</td>\n",
       "      <td>3.3</td>\n",
       "      <td>5.7</td>\n",
       "      <td>2.5</td>\n",
       "    </tr>\n",
       "    <tr>\n",
       "      <th>145</th>\n",
       "      <td>6.7</td>\n",
       "      <td>3.0</td>\n",
       "      <td>5.2</td>\n",
       "      <td>2.3</td>\n",
       "    </tr>\n",
       "    <tr>\n",
       "      <th>146</th>\n",
       "      <td>6.3</td>\n",
       "      <td>2.5</td>\n",
       "      <td>5.0</td>\n",
       "      <td>1.9</td>\n",
       "    </tr>\n",
       "    <tr>\n",
       "      <th>147</th>\n",
       "      <td>6.5</td>\n",
       "      <td>3.0</td>\n",
       "      <td>5.2</td>\n",
       "      <td>2.0</td>\n",
       "    </tr>\n",
       "    <tr>\n",
       "      <th>148</th>\n",
       "      <td>6.2</td>\n",
       "      <td>3.4</td>\n",
       "      <td>5.4</td>\n",
       "      <td>2.3</td>\n",
       "    </tr>\n",
       "  </tbody>\n",
       "</table>\n",
       "</div>"
      ],
      "text/plain": [
       "     sepal_length  sepal_width  petal_length  petal_width\n",
       "144           6.7          3.3           5.7          2.5\n",
       "145           6.7          3.0           5.2          2.3\n",
       "146           6.3          2.5           5.0          1.9\n",
       "147           6.5          3.0           5.2          2.0\n",
       "148           6.2          3.4           5.4          2.3"
      ]
     },
     "execution_count": 17,
     "metadata": {},
     "output_type": "execute_result"
    }
   ],
   "source": [
    "X_new = X.drop([149])\n",
    "X_new.tail()"
   ]
  },
  {
   "cell_type": "code",
   "execution_count": 18,
   "metadata": {},
   "outputs": [
    {
     "data": {
      "text/plain": [
       "'Iris-virginica'"
      ]
     },
     "execution_count": 18,
     "metadata": {},
     "output_type": "execute_result"
    }
   ],
   "source": [
    "y1 = y.iloc[149]\n",
    "y1"
   ]
  },
  {
   "cell_type": "code",
   "execution_count": 19,
   "metadata": {},
   "outputs": [
    {
     "data": {
      "text/plain": [
       "144    Iris-virginica\n",
       "145    Iris-virginica\n",
       "146    Iris-virginica\n",
       "147    Iris-virginica\n",
       "148    Iris-virginica\n",
       "Name: type, dtype: object"
      ]
     },
     "execution_count": 19,
     "metadata": {},
     "output_type": "execute_result"
    }
   ],
   "source": [
    "y_new = y.drop([149])\n",
    "y_new.tail()"
   ]
  },
  {
   "cell_type": "code",
   "execution_count": 20,
   "metadata": {},
   "outputs": [
    {
     "data": {
      "text/plain": [
       "KNeighborsClassifier(weights='distance')"
      ]
     },
     "execution_count": 20,
     "metadata": {},
     "output_type": "execute_result"
    }
   ],
   "source": [
    "neigh = KNeighborsClassifier(n_neighbors=5, weights='distance')\n",
    "neigh.fit(X_new, y_new)"
   ]
  },
  {
   "cell_type": "code",
   "execution_count": 36,
   "metadata": {},
   "outputs": [
    {
     "name": "stdout",
     "output_type": "stream",
     "text": [
      "predicted: ['Iris-virginica']\n"
     ]
    }
   ],
   "source": [
    "print(\"predicted:\",neigh.predict(x1))"
   ]
  },
  {
   "cell_type": "code",
   "execution_count": null,
   "metadata": {},
   "outputs": [],
   "source": []
  },
  {
   "cell_type": "code",
   "execution_count": null,
   "metadata": {},
   "outputs": [],
   "source": []
  },
  {
   "cell_type": "code",
   "execution_count": null,
   "metadata": {},
   "outputs": [],
   "source": []
  },
  {
   "cell_type": "code",
   "execution_count": null,
   "metadata": {},
   "outputs": [],
   "source": []
  },
  {
   "cell_type": "code",
   "execution_count": null,
   "metadata": {},
   "outputs": [],
   "source": []
  },
  {
   "cell_type": "code",
   "execution_count": null,
   "metadata": {},
   "outputs": [],
   "source": [
    "import numpy as np"
   ]
  },
  {
   "cell_type": "markdown",
   "metadata": {},
   "source": [
    "**<ins>Task 2</ins>**:\n",
    ">**November 2nd, 2020**: The Chi-squared test for independence is a statistical\n",
    "hypothesis test like a t-test. It is used to analyse whether two categorical variables\n",
    "are independent. The Wikipedia article gives the table below as an example [https://en.wikipedia.org/w/index.php?title=Chi-squared_test&oldid=983024096],\n",
    "stating the Chi-squared value based on it is approximately 24.6. Use scipy.stats\n",
    "to verify this value and calculate the associated p value. You should include a short\n",
    "note with references justifying your analysis in a markdown cell.\n",
    "\n",
    "<img src=\"imgs/chi-table.png\" width=\"700\" title=\"Table from Wikipedia showing data to preform chi-squared test on.\">\n",
    "\n",
    "Using scipy.stats.chi2_contingency(observed) you can run a Chi-square test of independence of variables in a contingency table [https://docs.scipy.org/doc/scipy/reference/generated/scipy.stats.chi2_contingency.html]. A contingency table is one that compares two categorical variables as it pertains to populations (like the table above)[https://en.m.wikipedia.org/wiki/Chi-squared_test]. You simply represent the table as an array or arrays like ([90, 30, 30], [60, 50, 40], [104, 51, 45], [95, 20, 35]) or interestingly enough, as is show below, ([[ 90,  60, 104,  95], [ 30,  50,  51,  20], [ 30,  40,  45,  35]]) as `observed`. It works because you can represent the data with one as rows and the other as columns or vise versa. This `chi2_contingency()` returns four values [https://machinelearningmastery.com/chi-squared-test-for-machine-learning/]:\n",
    "\n",
    "- chi2: The chi-squared test statistic represented as a float.\n",
    "- p: The p-value represented as a float.\n",
    "- dof: The degrees of freedom represented as a integer.\n",
    "- expected: The expected frequencies, based on the marginal sums of the table represented as an ndarray, the same shape as observed."
   ]
  },
  {
   "cell_type": "code",
   "execution_count": null,
   "metadata": {},
   "outputs": [],
   "source": [
    "from scipy.stats import chi2_contingency\n",
    "from scipy.stats import chi2\n",
    "from scipy.stats import chisquare\n",
    "import numpy as np"
   ]
  },
  {
   "cell_type": "code",
   "execution_count": null,
   "metadata": {},
   "outputs": [],
   "source": [
    "# Array representing the table above\n",
    "array = np.array([[90, 30, 30], [60, 50, 40], [104, 51, 45], [95, 20, 35]])"
   ]
  },
  {
   "cell_type": "code",
   "execution_count": null,
   "metadata": {},
   "outputs": [],
   "source": [
    "# Array representing the table above if the variables were reversed.\n",
    "arrayT = array.T"
   ]
  },
  {
   "cell_type": "code",
   "execution_count": null,
   "metadata": {},
   "outputs": [],
   "source": [
    "# Running the chi-squared test and collecting the outputs\n",
    "stat, p, dof, expected = chi2_contingency(array)\n",
    "statT, pT, dofT, expectedT = chi2_contingency(arrayT)"
   ]
  },
  {
   "cell_type": "markdown",
   "metadata": {},
   "source": [
    "So the chi-squared value of the above table was calculated as:"
   ]
  },
  {
   "cell_type": "code",
   "execution_count": null,
   "metadata": {},
   "outputs": [],
   "source": [
    "stat"
   ]
  },
  {
   "cell_type": "markdown",
   "metadata": {},
   "source": [
    "and can be rounded to 24.6 like in the question.\n",
    "\n",
    "The associated p-value is:"
   ]
  },
  {
   "cell_type": "code",
   "execution_count": null,
   "metadata": {},
   "outputs": [],
   "source": [
    "p"
   ]
  },
  {
   "cell_type": "code",
   "execution_count": null,
   "metadata": {},
   "outputs": [],
   "source": [
    "import matplotlib.pyplot as plt\n",
    "import math\n",
    "\n",
    "plt.rcParams['figure.figsize'] = [8, 4]\n",
    "plt.rcParams['figure.dpi'] = 100"
   ]
  },
  {
   "cell_type": "markdown",
   "metadata": {},
   "source": [
    "**<ins>Task 1</ins>**:\n",
    ">**October 5th, 2020**: Write a Python function called sqrt2 that calculates and\n",
    "prints to the screen the square root of 2 to 100 decimal places. Your code should\n",
    "not depend on any module from the standard library or otherwise. You should\n",
    "research the task first and include references and a description of your algorithm.\n",
    "\n",
    "#### Introduction\n",
    "\n",
    "The square root of a real number $ S $, usually denoted as $ \\sqrt{S} $, is a non-negative number that when multiplied by itself will give you $ S $. Algebraically, this means a procedure for finding the non-negative root of the equation $ f(x) = x^{2} - S $ when $ f(x) = 0 $ (i.e. $ x^{2} - S = 0 $). So starting off if we subtract $ S $ from both sides [1] we're given:\n",
    "\n",
    "$$ x^{2} = S $$\n",
    "\n",
    "because a sqaured number can't be negative $ S $ remains positive. Then by taking the square root of both sides (which is equivalent to putting something to the power of a half ($ x^{ \\frac{ 1 }{ 2 } } $) we are left with the square root of $ S $:\n",
    "\n",
    "$$ x = \\sqrt{S} \\;\\; or \\;\\; x = S^{ \\frac{ 1 }{ 2 } } $$\n",
    "\n",
    "This is the representation of the square root ($ x $) of a number ($ S $). Where, like we said above, when $ x $ is squared (or multiplied by itself) it produces $ S $.\n",
    "\n",
    "Every real number has two square roots. The square root we're interested in is the principal irrational number (not expressible as a ratio of two integers). Due to the fact that it's an irrational number only an approximation of the square root can be calulated. It is important to note that even with a perfect square (for example $ 2 = \\sqrt{4} $) the different methods for calulating the square root may only return an approximation [1]."
   ]
  },
  {
   "cell_type": "markdown",
   "metadata": {},
   "source": [
    "#### Method\n",
    "\n",
    "There are many ways to calculate the square root of a number (or at least the approximation). In this exercise we will use Newton's method, the most suited for programmatic calculation[1]. \n",
    "\n",
    "Newtons method is actually a procedure used for solving equations of the form $ f(x) = 0 $. Which is perfect for us because we want to find x when $ f(x) = 0 $ where in our instance $ f(x) = x^{2} - S $.\n",
    "\n",
    "It works as follows: \n",
    "First we need a guess of the square root of the real number in question. In math talk it means we need a guess of $ x $ to start with. Preferably it should be as close to $ S $ as we can determine. We call this guess $ x_{n} $ and we use this along with Newton's method to find a closer approximation of the square root of $ S $, $ x_{ n + 1 } $ [2]. \n",
    "\n",
    "Let's say our $ S $ is 100. We know that the square root, $ x $, is 10, but what if we didn't? Say we guessed the square root as 33. This 33 is now our $ x_{ n } $. If we were to plot this in terms $ x $ vs. $ S $ our $ x $ and $ y $ coordinates would be (33, 33<sup>2</sup>). Which is (33, 1,089). This clearly is the wrong answer but our concern is with getting a more accurate guess of $ x $.\n",
    "\n",
    "We can show (using matplotlib) the equation of the line $ S = x^{ 2 } $ where $ 0 < x \\leq \\frac{S * 4}{10} $ (shown as the blue line below) along with where our guess is on this line (the red dot) [3].\n",
    "\n",
    "<img src=\"imgs/Svsx.png\" width=\"700\" title=\"S vs. x^2\">\n",
    "\n",
    "<p style=\"text-align:center\">figure 1: S vs. x^2</p>"
   ]
  },
  {
   "cell_type": "markdown",
   "metadata": {},
   "source": [
    "We can see from the above graph that our guess was way off. The x-axis represents the number we want to square ($ x $) and the y-axis represents the square of that number ($ S $). From the graph we can see that the square of our guess 33 is close to 1,000 (it's actually 1,089). This is where Newton's method comes into its own. The green line extends out from where the 100 mark is. Where the green line intercepts the blue curve is where our square root lies. You'll see if you change the value of our guess (in math terms $ x_{ n } $ and in our code above `x_n`) our red indecator will get closer or further from this intercept the closer or further you get from the correct guess of 10 [3].\n",
    "\n",
    "This is exacly what Newton's method does. It starts with a guess and using the method, that we will look at below, gets closer and closer to this intercept (but never actually touches it, hence the approximation of the square root).\n",
    "\n",
    "So how do we find the next (hopefully closer) approximation? Newton's method uses this starting point, $ x_{ n } $ (where $ x_{ n } > 0 $), and gets the tangent line (the red line above) to the function $ f(x) = x^{ 2 } - S ($ when $ f(x) = 0 $) and where this line cuts the x-axis is where is our new approximation $ x_{ n + 1 } $ is[4]. Using this new approximation we can see that we are closer from our first guess but still too far to consider accurate.\n",
    "\n",
    "The equation of this tangent line is:\n",
    "\n",
    "$$ y = f(x_n) + f'(x_n)(x - x_n) $$\n",
    "\n",
    "Where:\n",
    "\n",
    "$$ f'(x) = 2x $$\n",
    "\n",
    "Doing the next iteration means that $ x_n = x $ and $ n_{ n + 1 } = x_n $. We're looking for $ n_{ n + 1 } $ for where this line crosses the x-axis, meaning $ y = 0 $:\n",
    "\n",
    "$$ 0 = f(x_{ n + 1 }) + f'(x_{ n + 1 })(x_n - x_{ n + 1 }) $$\n",
    "\n",
    "Rearanging we can represent $ x_{ n + 1 } $ as:\n",
    "\n",
    "$$ x_{ n + 1 } = x_n - \\frac{ f(x_n) }{ f'(x_n) } $$\n",
    "\n",
    "So by filling in what we know for the square root the equation then becomes:\n",
    "\n",
    "$$ x_{ n + 1 } = x_n - \\frac{ x_{ n }^2 - S }{ 2x_n } $$\n",
    "\n",
    "Simplifying:\n",
    "\n",
    "$$ x_{ n + 1 } = \\frac{ 1 }{ 2 } \\left( x_n + \\frac{ S }{ x_n }\\right) $$\n",
    "\n",
    "This is the equation that we will use to calculate $ x $. First lets prove that as $ x_n $ approaches $ x $ it remains a real number because we're only interested in real numbers of x. A real number is a positive number that can be represented on a line. For this it needs to be positive and quantifiable. We know our initial guess of $ x_n $ is positive and real. There are three conditions for our $ x_n $. The frist is that $ x_{ n }^2 > S $ meaning our initial guess was higher then $ x $. The second is that it is lower then our guess, $ x_{ n }^2 < S $. Finally that our guess is exactly right, $ x_{ n }^2 = S $ (i.e. that $ x_n = x $). We'll do this by trying to calculate the difference between one iteration and the previous ($ x_{ n + 1 } - x_n $). We do this by subtracting both sides of the previous equation by $ x_n $ [4]:\n",
    "\n",
    "$$ x_{ n + 1 } - x_n = \\frac{ 1 }{ 2 } \\left( x_n + \\frac{ S }{ x_n }\\right) - x_n $$\n",
    "\n",
    "Simplifying and finding the common denominator of the RHS:\n",
    "\n",
    "$$ x_{ n + 1 } - x_n = \\frac{ x_n }{ 2 } + \\frac{ S }{ 2 x_n } - \\frac{ x_n }{ 1 } $$\n",
    "\n",
    "$$ x_{ n + 1 } - x_n = \\frac{ x_{ n }^2 + S - 2x_{ n }^2 }{ 2x_n } $$\n",
    "\n",
    "$$ x_{ n + 1 } - x_n = \\frac{ S - x_{ n }^2 }{ 2x_n } $$\n",
    "\n",
    "$$ x_{ n + 1 } - x_n = \\frac{ 1 }{ 2x_n } \\left( S - x_{ n }^2 \\right) $$\n",
    "\n",
    "\n",
    "So for $ x_{ n }^2 > S $ we know that $ S - x_{ n }^2 $ is negative and approaching zero. In turn this means that $ x_{ n + 1 } - x_n $ (the error in our approximation between $ x_n $ and $ x_{ n + 1 } $) is negative and approaching zero. This tells us that each iteration is less then the one before and we know that it is approaching $ x $. Our initial guess, $ x_0 $ and the square root we're trying to calculate ($ x $) are both positive. From this we can infer that $ x_n \\leq x_{ n + 1 } \\leq x_{ n + 2 } \\leq ... x $ meaning that $ x_n $ does infact stay positive as it approaches $ x $. The same can be infered from $ x_{ n }^2 < S $. Where $ x_n \\geq x_{ n + 1 } \\geq x_{ n + 2 } \\geq ... x $. \n",
    "\n",
    "We can use the last equation to calculate the error between each iteration [5]:\n",
    "\n",
    "<p style=\"text-align: center;\">x_n1 - x_n = (1 / (2 * x_n) ) * (S - x_n**2)</p>"
   ]
  },
  {
   "cell_type": "markdown",
   "metadata": {},
   "source": [
    "For $ x_{ n }^2 = S $ we'll rearrange the last equation to represent $ S - x_{ n }^2 $ this will give us the error of our approximation in relation to the number under investigation ($ S $):\n",
    "\n",
    "$$ S - x_{ n }^2 = 2x_{ n }( x_{ n + 1 } - x_n) $$\n",
    "\n",
    "Since $ x^2 = S $ the LHS becomes zero as $ x_{ n + 1 } - x_n \\to 0 $ (or as the error in our approximation between $ x_n $ and $ x_{ n + 1 } $ approaches zero) as $ n \\to \\infty $ we get closer to x which is a positive real number.\n",
    "\n",
    "Now on to using the equation from before:\n",
    "\n",
    "$$ x_{ n + 1 } = \\frac{ 1 }{ 2 } \\left( x_n + \\frac{ S }{ x_n }\\right) $$\n",
    "\n",
    "Or represented as Python code:\n",
    "\n",
    "<p style=\"text-align: center;\">x_n1 = 0.5 * (x_n + S/x_n)</p>\n",
    "\n",
    "In the example below I show the first six iterations (or loop) of Newton's Method. Where $ S $ is 2 and our initial guess $ x_0 $ is $ S/2 $ [6]."
   ]
  },
  {
   "cell_type": "code",
   "execution_count": null,
   "metadata": {
    "scrolled": false
   },
   "outputs": [],
   "source": [
    "# Find the square root of S\n",
    "S = 2 \n",
    "\n",
    "# First guess for x\n",
    "x_n = S/2\n",
    "\n",
    "for i in range(0, 6):\n",
    "    x_n = 0.5 * (x_n + S/x_n)\n",
    "    error = (1 / (2 * x_n) ) * (S - x_n**2)\n",
    "    print(\"Loop {}: x = {}, & error from previous: {}\".format(i+1, str(x_n).ljust(18), str(error).ljust(18)))"
   ]
  },
  {
   "cell_type": "markdown",
   "metadata": {},
   "source": [
    "You'll notice that for the last two iterations both the approximation of the square root of two and the error between iterations is the same. This is due to the limitation of computers representing floating-point numbers. They do this by using approximate binary fraction (we will discuss this in more detail below). \n",
    "\n",
    "The purpose of this task is to create a function that finds the square root of two to an accuracy of 100 decimal places. So in this case our $ S $ is 2 and our initial guess $ x_n $ must lie between $ 0 $ and $ S $ so we'll take it as $ S/2 $ (or 1). "
   ]
  },
  {
   "cell_type": "code",
   "execution_count": null,
   "metadata": {},
   "outputs": [],
   "source": [
    "def sqrt2(full_print=False):\n",
    "    \n",
    "    # Number that you want to find the square root of \n",
    "    S = 2\n",
    "    \n",
    "    # Our initial guess of x which is halfway between 0 and S\n",
    "    x_n = S/2\n",
    "    \n",
    "    # Comparison of S to x^2 for accuracy\n",
    "    while (abs(S - (x_n**2)) > 0.1*10**-14):\n",
    "        x_n = 0.5 * (x_n + S/x_n)\n",
    "        # Uncomment for error\n",
    "        # error = (1 / (2 * x_n) ) * (S - x_n**2)\n",
    "    \n",
    "    # If set to true print answer to 100 decimal places\n",
    "    if(full_print==True):\n",
    "        print(\"The answer of this function to 100 decimal places:\\n\", format(x_n, \".100f\"))\n",
    "    \n",
    "    return x_n\n",
    "\n",
    "sqrt2(True)"
   ]
  },
  {
   "cell_type": "markdown",
   "metadata": {},
   "source": [
    "Below is the square root of two to an accuracy of 100 decimal places [7].Watch what happens when we try to print this."
   ]
  },
  {
   "cell_type": "code",
   "execution_count": null,
   "metadata": {},
   "outputs": [],
   "source": [
    "# square root of 2 to 100 decimal places\n",
    "x = 1.4142135623730950488016887242096980785696718753769480731766797379907324784621070388503875343276415727\n",
    "print(x)"
   ]
  },
  {
   "cell_type": "markdown",
   "metadata": {},
   "source": [
    "Also lets see what happens when we try to print it to 100 decimal places."
   ]
  },
  {
   "cell_type": "code",
   "execution_count": null,
   "metadata": {},
   "outputs": [],
   "source": [
    "format(x, \".100f\")"
   ]
  },
  {
   "cell_type": "markdown",
   "metadata": {},
   "source": [
    "This is not what is expected and at first glance looks like we have done something wrong. In fact it is (as I mentioned above) the error that occurs when a computer (that works in 1s and 0s) trys to represent a base ten floating point number. As explained in the official Python documentation [8] languages use an approximation of certain numbers, for Python it's generally to 15 decimal places. Their examples are quiet suficient in explaining this so I will use them here.\n",
    "\n",
    "Floating point numbers are represented in computer hardware as base 2 (binary) fractions. For example 0.125 can be represented in base 10 as follows:\n",
    "\n",
    "0.125 = 1/10 + 2/100 + 5/1000\n",
    "\n",
    "In the same way the binary fraction is:\n",
    "\n",
    "0.001 = 0/2 + 0/4 + 1/8"
   ]
  },
  {
   "cell_type": "code",
   "execution_count": null,
   "metadata": {},
   "outputs": [],
   "source": [
    "base10 = 1/10 + 2/100 + 5/1000\n",
    "base2  = 1/8  +  0/4  + 0/2 # or 0100 in binary\n",
    "\n",
    "print(\"Base 10: \", base10)\n",
    "print(\"Base 2 : \", base2 )"
   ]
  },
  {
   "cell_type": "markdown",
   "metadata": {},
   "source": [
    "Most decimal fractions however can only be represented as an approximation in binary fractions. Take 1/3 for example. When approximated to a base ten fraction it can be represented as `0.3` or better still `0.33` and you can keep going adding the next decimal place of 3 but never reach an exact value for 1/3.\n",
    "\n",
    "Similarly, using binary (or base 2) digits to represent 0.1 (or 1/10) will leave you with an infinitely repeating fraction\n",
    "\n",
    "0.0001100110011001100110011001100110011001100110011...\n",
    "\n",
    "which means you can only ever represent it as an approximation in binary form.\n",
    "\n",
    "Binary fractions are a real number as the numerator as a real number and the denominator as a power of 2. In the case of 1/10:"
   ]
  },
  {
   "cell_type": "code",
   "execution_count": null,
   "metadata": {},
   "outputs": [],
   "source": [
    "# Get 1/10 as a fraction: 3602879701896397 / 36028797018963968\n",
    "numerator, denominator = (1/10).as_integer_ratio()\n",
    "# Work out what power of two the denominator is: 55 [7]\n",
    "power_of_2 = math.log2(denominator)\n",
    "# Print our numerator divided by two to the power of 55\n",
    "numerator/2**power_of_2"
   ]
  },
  {
   "cell_type": "markdown",
   "metadata": {},
   "source": [
    "The above shows 1/10 being represented as a fraction (`.as_integer_ratio()`). Next we use that fraction to find the denominator in terms of a power of 2 (`math.log2`). Look what happens when we represent it with 20 decimal places."
   ]
  },
  {
   "cell_type": "code",
   "execution_count": null,
   "metadata": {},
   "outputs": [],
   "source": [
    "# printing above to 20 decimal places\n",
    "format((numerator/2**power_of_2), \".20f\")"
   ]
  },
  {
   "cell_type": "markdown",
   "metadata": {},
   "source": [
    "Our approximation is exposed.\n",
    "\n",
    "Further examination can be done with an alteration on our newton method code above. We do this by splitting the input and the output into equivalent numerators and denominators. We can see that between iteration number 6 and 8 the n/d ratio is significantly larger but the output of n/d to twenty decimal places (and in fact as mant as you like) are the same because they are both approximated by the same binary fraction [9]."
   ]
  },
  {
   "cell_type": "code",
   "execution_count": null,
   "metadata": {},
   "outputs": [],
   "source": [
    "# initialize numerator\n",
    "n = 1\n",
    "# initialize denominator\n",
    "d = 1\n",
    "\n",
    "# Loop 7 times\n",
    "for i in range(2, 9):\n",
    "    # set old numerator to a\n",
    "    a = n\n",
    "    # set old denominator to b\n",
    "    b = d\n",
    "    # loop once\n",
    "    for j in range(0,1):\n",
    "        # calculate new numerator\n",
    "        n = a**2 + 2 * (b**2)\n",
    "        # calculate new denominator\n",
    "        d = 2*a*b\n",
    "        # On the even loops print the bellow\n",
    "        if i % 2 == 0 and i > 4:\n",
    "            # print interation no\n",
    "            print(\"iteration no.\", i-1)\n",
    "            # print numerator\n",
    "            print(\"numerator (n):\", n)\n",
    "            # print denominator\n",
    "            print(\"denominator (d):\",d)\n",
    "            # print n/d\n",
    "            print(\"n/d:\", format(n/d, \".20f\"))\n",
    "            # print space\n",
    "            print(\"\")"
   ]
  },
  {
   "cell_type": "markdown",
   "metadata": {},
   "source": [
    "#### Testing our function\n",
    "\n",
    "At first glance the output of our function and the imported one from the math module look almost identical."
   ]
  },
  {
   "cell_type": "code",
   "execution_count": null,
   "metadata": {},
   "outputs": [],
   "source": [
    "imported_sqrt_of_2 = math.sqrt(2)\n",
    "created_sqrt_of_2 = sqrt2()\n",
    "\n",
    "print(\"The square root of 2 by math.sqrt():\", imported_sqrt_of_2)\n",
    "print(\"The square root of 2 by sqrt2()    :\", created_sqrt_of_2)"
   ]
  },
  {
   "cell_type": "markdown",
   "metadata": {},
   "source": [
    "But again on closer inspection they are much different. Here are the same outputs viewed to 30 decimal places."
   ]
  },
  {
   "cell_type": "code",
   "execution_count": null,
   "metadata": {},
   "outputs": [],
   "source": [
    "print(\"The square root of 2 by math.sqrt():\", format(imported_sqrt_of_2, \".30f\"))\n",
    "print(\"The square root of 2 by sqrt2()    :\", format(created_sqrt_of_2, \".30f\"))"
   ]
  },
  {
   "cell_type": "markdown",
   "metadata": {},
   "source": [
    "The error between these outputs squared and 2 will obviously be different but the difference is interesting."
   ]
  },
  {
   "cell_type": "code",
   "execution_count": null,
   "metadata": {},
   "outputs": [],
   "source": [
    "error_of_imported = 2 - (imported_sqrt_of_2**2)\n",
    "error_of_created = 2 - (created_sqrt_of_2**2)\n",
    "\n",
    "print(\"Error of math.sqrt():\", error_of_imported)\n",
    "print(\"Error of sqrt2()    :\", error_of_created)"
   ]
  },
  {
   "cell_type": "markdown",
   "metadata": {},
   "source": [
    "They are equal but opposite (I haven't researched why this is yet, but it's interesting none the less).\n",
    "\n",
    "We can see from converting these into integer ratios (or the numerator and denominator equivalents) that they are different. For bellow:\n",
    "\n",
    "- `n = numerator`\n",
    "- `d = denominator`"
   ]
  },
  {
   "cell_type": "code",
   "execution_count": null,
   "metadata": {},
   "outputs": [],
   "source": [
    "print(\"n and d for math.sqrt()\",(imported_sqrt_of_2).as_integer_ratio()) \n",
    "print(\"n and d for sqrt2()    \" ,(created_sqrt_of_2).as_integer_ratio())"
   ]
  },
  {
   "cell_type": "markdown",
   "metadata": {},
   "source": [
    "Then squaring both the difference becomes obvious."
   ]
  },
  {
   "cell_type": "code",
   "execution_count": null,
   "metadata": {},
   "outputs": [],
   "source": [
    "imported_sqrt_of_2**2, created_sqrt_of_2**2"
   ]
  },
  {
   "cell_type": "markdown",
   "metadata": {},
   "source": [
    "### Full solution:\n",
    "\n",
    "There is however a way to produce the square root of 2 to 100 decimal places. The problem with this is you have to return it as a string. The solution lies in multiply by powers of ten. This idea is best explained with the square root of 4 and the square root of 40,000 [10].\n",
    "\n",
    "So we know that the square root of 4 is 2 ($ \\sqrt{4} = 2 $). If we run a little algebra we can use the square root of 4 to solve for the square root of 40,000:\n",
    "\n",
    "$$ \\sqrt{40000} = \\sqrt{4 \\times 10000} = \\sqrt{4} \\times \\sqrt{10000} $$\n",
    "\n",
    "We can use our answer for square root of 4 above and pop it in and then fill in the answer for the square root of 10,000 ($ \\sqrt{10000} = 100 $)\n",
    "\n",
    "$$ \\sqrt{40000} = 2 \\times \\sqrt{10000} = 2 \\times 100 = 200 $$\n",
    "\n",
    "This only works for multiples of 100 however the same cannot be said for the 10s. \n",
    "\n",
    "The same can be done for the square root of 2. Except this time we want 100 decimal places. This means in order to get our answer to 100 decimal our S must be to the order of $ 100^{100} $. This will give us an integer answer that is 100 digits long and is 100 decimal places from the square root of 2.\n",
    "\n",
    "Finally if we take this numbern and convert it to a string, take the first element as the integer part, concatonate the decimal place and the remainder after it we get our answer printed as a string."
   ]
  },
  {
   "cell_type": "code",
   "execution_count": null,
   "metadata": {
    "scrolled": false
   },
   "outputs": [],
   "source": [
    "def sqrt2():\n",
    "    \n",
    "    # Number that you want to find the square root of \n",
    "    num = 2\n",
    "    \n",
    "    S = num * 100 ** 100\n",
    "    \n",
    "    # Our initial guess of x which is halfway between 0 and S\n",
    "    x_n = S//2\n",
    "    \n",
    "    while S - (x_n**2) < 0:\n",
    "        x_n = (x_n + S//x_n)//2\n",
    "        \n",
    "    x_n = (str(x_n))\n",
    "    \n",
    "    return(x_n[0] + \".\" + x_n[1:])\n",
    "\n",
    "sqrt2()"
   ]
  },
  {
   "cell_type": "markdown",
   "metadata": {},
   "source": [
    "**<ins>Task 2</ins>**:\n",
    ">**October 5th, 2020**: Write a Python function called sqrt2 that calculates and\n",
    "prints to the screen the square root of 2 to 100 decimal places. Your code should\n",
    "not depend on any module from the standard library or otherwise. You should\n",
    "research the task first and include references and a description of your algorithm.\n",
    "\n",
    "#### Introduction\n",
    "November 2nd, 2020: The Chi-squared test for independence is a statistical\n",
    "hypothesis test like a t-test. It is used to analyse whether two categorical variables\n",
    "are independent. The Wikipedia article gives the table below as an example [4],\n",
    "stating the Chi-squared value based on it is approximately 24.6. Use scipy.stats\n",
    "to verify this value and calculate the associated p value. You should include a short\n",
    "note with references justifying your analysis in a markdown cell.\n",
    "\n",
    "<img src=\"imgs/chi-table.png\" width=\"700\" title=\"Table from Wikipedia showing data to preform chi-squared test on.\">"
   ]
  },
  {
   "cell_type": "markdown",
   "metadata": {},
   "source": [
    "# References\n",
    "\n",
    "[1] Wikipedia, \"Methods of computing square roots\", https://en.wikipedia.org/wiki/Methods_of_computing_square_roots\n",
    "\n",
    "[2] Jerry L. Kazdan, \"Finding Square Roots Using Newton’s Method\", https://www.math.upenn.edu/~kazdan/202F09/sqrt.pdf\n",
    "\n",
    "[3] Australian Mathematical Sciences Institute, \"Finding a solution with geometry\", http://amsi.org.au/ESA_Senior_Years/SeniorTopic3/3j/3j_2content_2.html#:~:text=Finding%20a%20solution%20with%20geometry,requires%20calculus%2C%20in%20particular%20differentiation\n",
    "\n",
    "[4] S. G. Johnson, \"Square Roots via Newton’s Method\", https://math.mit.edu/~stevenj/18.335/newton-sqrt.pdf\n",
    "\n",
    "[5] Jerry L. Kazdan, \"Newton’s method for finding square roots\" , https://www.math.upenn.edu/~kazdan/202F13/notes/sqrt-Newton.pdf\n",
    "\n",
    "[6] Dr. Richard Anstee, \"The Newton-Raphson Method\", https://www.math.ubc.ca/~anstee/math104/newtonmethod.pdf\n",
    "\n",
    "[7] Robert Nemiroff, \"the first 10 million digits of the square root of 2\", https://apod.nasa.gov/htmltest/gifcity/sqrt2.10mil\n",
    "\n",
    "[8] Python Software Foundation, \"Floating Point Arithmetic: Issues and Limitations\", https://docs.python.org/3/tutorial/floatingpoint.html\n",
    "\n",
    "[9] willem, \"Answer to: Finding square root of 2 upto more than 100 decimal places\", https://stackoverflow.com/questions/8505385/finding-square-root-of-2-upto-more-than-100-decimal-places\n",
    "\n",
    "[10] alani, \"Answer to: Is there a way to create more decimal points on Python without importing a library/module?\", https://stackoverflow.com/questions/64278117/is-there-a-way-to-create-more-decimal-points-on-python-without-importing-a-libra"
   ]
  },
  {
   "cell_type": "markdown",
   "metadata": {},
   "source": [
    "# Appendix:\n",
    "\n",
    "Code used to produce figure 1:"
   ]
  },
  {
   "cell_type": "code",
   "execution_count": null,
   "metadata": {},
   "outputs": [],
   "source": [
    "# S\n",
    "S = 100\n",
    "\n",
    "# Our first guess of x\n",
    "x_n = [33]\n",
    "# The accurate value of x for S = 100\n",
    "x = [10]\n",
    "\n",
    "# x values for mapping S = x^2\n",
    "xs = range(0, int(S * 0.4))\n",
    "\n",
    "# function to caluate a list of S values using xs\n",
    "def calculateS(xs):\n",
    "    Slist = []\n",
    "    \n",
    "    for i in range(0, len(xs)):\n",
    "        Slist.append((xs[i])**2)\n",
    "        \n",
    "    return Slist\n",
    "\n",
    "# S values for mapping S = x^2\n",
    "Slist = calculateS(xs)\n",
    "\n",
    "# calculate the new value of x_n where f(x)=0, and x_n=33\n",
    "# This is the equation of the tangent to the curve \n",
    "x_n1 = 0.5*(x_n[0] + S/x_n[0])\n",
    "\n",
    "# caluate the S for our guess 33 (this is 33^2)\n",
    "y_n = calculateS(x_n)\n",
    "# caluate the S for correct answer of 10 (this is 10^2)\n",
    "y = calculateS(x)\n",
    "\n",
    "# points to create green line to show where our correct answer cuts the curve\n",
    "Sx = [S] * int(S * 0.4)\n",
    "\n",
    "# blue line indicating S = x^2\n",
    "plt.plot(xs, Slist, 'b-', label=\"x^2\")\n",
    "# red dot that shows where our guess of x_n of 33 lands on curve\n",
    "plt.plot(x_n, y_n, 'ro', label=\"x_n0\")\n",
    "# green line showing where S = 100 cuts the curve\n",
    "plt.plot(xs, Sx, 'g--', label=\"S = 100\")\n",
    "# black dot that shows where the green line cuts the curve and 100=x^2 (where x = 10)\n",
    "plt.plot(x, y, 'ko', label=\"where 100=(x_n^2)\")\n",
    "# red line showing the tangent line to the curve at the point of our first guess\n",
    "plt.plot([x_n1, x_n[0]], [0, y_n[0]], 'r-')\n",
    "# yellow line up from where our tangent line cuts the x-axis for our next approximation of x\n",
    "plt.axvline(x=x_n1, ymin=0, ymax=1, c='y', linestyle='--')\n",
    "\n",
    "# Title\n",
    "plt.title(\"S versus x_n\")\n",
    "# x label\n",
    "plt.xlabel(\"x_n\")\n",
    "# y label\n",
    "plt.ylabel(\"S\", rotation=0)\n",
    "\n",
    "# removing white space\n",
    "plt.xlim(xmin=0, xmax=38)\n",
    "plt.ylim(ymin=0, ymax=1500)\n",
    "\n",
    "# produce legend\n",
    "plt.legend()\n",
    "\n",
    "plt.show()"
   ]
  }
 ],
 "metadata": {
  "kernelspec": {
   "display_name": "Python 3",
   "language": "python",
   "name": "python3"
  },
  "language_info": {
   "codemirror_mode": {
    "name": "ipython",
    "version": 3
   },
   "file_extension": ".py",
   "mimetype": "text/x-python",
   "name": "python",
   "nbconvert_exporter": "python",
   "pygments_lexer": "ipython3",
   "version": "3.8.3"
  }
 },
 "nbformat": 4,
 "nbformat_minor": 4
}
