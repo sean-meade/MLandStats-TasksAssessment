{
 "cells": [
  {
   "cell_type": "markdown",
   "metadata": {},
   "source": [
    "inputNo = 1234\n",
    "decimal = 1\n",
    "decimalPlace = 1\n",
    "\n",
    "for i in range(101):\n",
    "    if (i * i == inputNo):\n",
    "        print(\"this is a perfect square\")\n",
    "    elif ((i * i < inputNo) and (((i + 1) * (i + 1)) > inputNo)):\n",
    "        square = i\n",
    "        squarePlus = i + 1\n",
    "        decimal = decimal * 0.1\n",
    "        decimalPlace = decimalPlace + 1\n",
    "        print(decimal)\n",
    "        if decimalPlace == 100:\n",
    "            print((\"maximum number of decimal places reached\"))\n",
    "        elif ((square * square) == inputNo):\n",
    "            print(\"this is a perfect square with a decimal place\")\n",
    "            break\n",
    "        else:\n",
    "            for n in range(0, 10):\n",
    "                newSquare = square\n",
    "                squarePlusNew = square\n",
    "                decimalAddOn = decimal * n\n",
    "                decimalAddOn = decimal * (n + 1)\n",
    "                if (square * square < inputNo):\n",
    "                    newSquare = newSquare + (decimalAddOn)\n",
    "                    squarePlusNew = squarePlusNew - decimalAddOn\n",
    "                    if ((newSquare * newSquare) < inputNo) and ((squarePlusNew * squarePlusNew) < inputNo):\n",
    "                        decimalNumber = n - 1\n",
    "                        square = square + (decimal * decimalNumber)\n",
    "                        print(square)"
   ]
  },
  {
   "cell_type": "code",
   "execution_count": 3,
   "metadata": {},
   "outputs": [
    {
     "name": "stdout",
     "output_type": "stream",
     "text": [
      "35.1\n",
      "35.120000000000005\n",
      "35.12800000000001\n",
      "35.12830000000001\n",
      "35.12833000000001\n",
      "35.12833600000001\n",
      "35.12833610000001\n",
      "35.128336140000016\n",
      "35.128336140000016\n",
      "35.12833614050002\n",
      "35.12833614050002\n",
      "35.12833614050002\n",
      "35.128336140500515\n",
      "35.128336140500586\n",
      "35.128336140500586\n"
     ]
    }
   ],
   "source": [
    "num = 1234\n",
    "squareBase = 0\n",
    "\n",
    "for i in range(1, num):\n",
    "    if (i * i < num) and ((i + 1) * (i + 1) > num):\n",
    "        squareBase = i\n",
    "        \n",
    "decimal = 1\n",
    "decimalPlace = 0\n",
    "\n",
    "for decPlace in range(1, 101):\n",
    "    decimalPlace = decimalPlace + 1\n",
    "    decimal = decimal * 0.1\n",
    "    for decNum in range(1, 10):\n",
    "        decimalNumber = decimal * decNum\n",
    "        testSquare = squareBase + round(decimalNumber, decPlace)\n",
    "        if ((testSquare * testSquare) > num):\n",
    "            squareBase = squareBase + (decimal * (decNum - 1))\n",
    "            print(squareBase)\n",
    "            break\n",
    "\n",
    "\n"
   ]
  },
  {
   "cell_type": "markdown",
   "metadata": {},
   "source": [
    "[1]https://www.w3schools.com/python/ref_func_round.asp (for rounding number)"
   ]
  },
  {
   "cell_type": "code",
   "execution_count": 4,
   "metadata": {},
   "outputs": [
    {
     "name": "stdout",
     "output_type": "stream",
     "text": [
      "0.1 10\n",
      "0.0 20\n",
      "35.0\n",
      "35.0\n",
      "35.0\n",
      "35.0\n",
      "35.0\n",
      "35.0\n",
      "35.0\n",
      "35.0\n",
      "35.0\n",
      "0.0 30\n",
      "35.0\n",
      "35.0\n",
      "35.0\n",
      "35.0\n",
      "35.0\n",
      "35.0\n",
      "35.0\n",
      "35.0\n",
      "35.0\n",
      "0.0 40\n",
      "35.0\n",
      "35.0\n",
      "35.0\n",
      "35.0\n",
      "35.0\n",
      "35.0\n",
      "35.0\n",
      "35.0\n",
      "35.0\n",
      "0.0 50\n",
      "35.0\n",
      "35.0\n",
      "35.0\n",
      "35.0\n",
      "35.0\n",
      "35.0\n",
      "35.0\n",
      "35.0\n",
      "35.0\n",
      "0.0 60\n",
      "35.0\n",
      "35.0\n",
      "35.0\n",
      "35.0\n",
      "35.0\n",
      "35.0\n",
      "35.0\n",
      "35.0\n",
      "35.0\n",
      "0.0 70\n",
      "35.0\n",
      "35.0\n",
      "35.0\n",
      "35.0\n",
      "35.0\n",
      "35.0\n",
      "35.0\n",
      "35.0\n",
      "35.0\n",
      "0.0 80\n",
      "35.0\n",
      "35.0\n",
      "35.0\n",
      "35.0\n",
      "35.0\n",
      "35.0\n",
      "35.0\n",
      "35.0\n",
      "35.0\n",
      "0.0 90\n",
      "35.0\n",
      "35.0\n",
      "35.0\n",
      "35.0\n",
      "35.0\n",
      "35.0\n",
      "35.0\n",
      "35.0\n",
      "35.0\n"
     ]
    }
   ],
   "source": [
    "num = 1234\n",
    "squareBase = 0\n",
    "\n",
    "for i in range(1, num):\n",
    "    if (i * i < num) and ((i + 1) * (i + 1) > num):\n",
    "        squareBase = i\n",
    "        \n",
    "decimal = 1\n",
    "deciamlPlace = 0\n",
    "\n",
    "for decPlace in range(1, 10):\n",
    "    multi = 10 * decPlace\n",
    "    offSetSquare = round(squareBase * multi)\n",
    "    squareBase = offSetSquare / multi\n",
    "    deciamlPlace = decimalPlace + 1\n",
    "    decimalInLoop = decimal * 0.1\n",
    "    offSetDecimal = round(decimalInLoop * multi)\n",
    "    decimal = offSetDecimal / multi\n",
    "    print(decimal, multi)\n",
    "    for decNum in range(1, 10):\n",
    "        decimalNumber = decimal * decNum\n",
    "        decimalNumberPlus = decimal * (decNum + 1)\n",
    "        testSquare = squareBase + round(decimalNumber, decPlace)\n",
    "        testSquarePlus = squareBase + round(decimalNumberPlus, decPlace)\n",
    "        if (((testSquare * testSquare) < num) and ((testSquarePlus * testSquarePlus) < num)):\n",
    "            squareBase = squareBase + (decimal * (decNum - 1))\n",
    "            print(squareBase)"
   ]
  },
  {
   "cell_type": "code",
   "execution_count": 32,
   "metadata": {},
   "outputs": [
    {
     "name": "stdout",
     "output_type": "stream",
     "text": [
      "4 0.4\n",
      "1 0.01\n",
      "4 0.004\n",
      "2 0.0002\n",
      "1 1e-05\n",
      "3 3e-06\n",
      "5 5e-07\n",
      "6 6e-08\n",
      "2 2e-09\n",
      "3 3e-10\n",
      "7 7e-11\n",
      "3 3e-12\n",
      "9 9e-14\n",
      "4 4e-15\n",
      "9 9e-16\n"
     ]
    },
    {
     "data": {
      "text/plain": [
       "'1.4142135623730954'"
      ]
     },
     "execution_count": 32,
     "metadata": {},
     "output_type": "execute_result"
    }
   ],
   "source": [
    "num = 2\n",
    "squareBase = 0\n",
    "\n",
    "for i in range(1, num):\n",
    "    if (i * i < num) and ((i + 1) * (i + 1) > num):\n",
    "        squareBase = i\n",
    "        \n",
    "decimal = 1\n",
    "decimalPlace = 0\n",
    "squareOfTwo = str(squareBase)\n",
    "\n",
    "for decPlace in range(1, 101):\n",
    "    deciamlPlace = decimalPlace + 1\n",
    "    decimal = decimal * 0.1\n",
    "    multi = 10**decPlace\n",
    "    decimal = round(decimal * multi)\n",
    "    decimal = decimal/multi\n",
    "    squareBase = round(squareBase * multi)\n",
    "    squareBase = squareBase/multi\n",
    "    for decNum in range(1, 10):\n",
    "        decimalNumber = decimal * decNum\n",
    "        decimalNumberPlus = decimal * (decNum + 1)\n",
    "        testSquare = squareBase + decimalNumber\n",
    "        testSquare = round(testSquare * multi)\n",
    "        testSquare = testSquare/multi\n",
    "        testSquarePlus = squareBase + round(decimalNumberPlus, decPlace)\n",
    "        if (((testSquare * testSquare) < num) and ((testSquarePlus * testSquarePlus) > num)):\n",
    "            addedDecimal = (decimal * (decNum))\n",
    "            addedDecimal = round(addedDecimal * multi)\n",
    "            addedDecimal = addedDecimal/multi\n",
    "            print(decNum, addedDecimal)\n",
    "            squareBase = squareBase + addedDecimal\n",
    "            squareBase = round(squareBase * multi)\n",
    "            squareBase = squareBase/multi\n",
    "            break\n",
    "repr(squareBase)     "
   ]
  },
  {
   "cell_type": "code",
   "execution_count": null,
   "metadata": {},
   "outputs": [],
   "source": [
    "dec = 0.1000000000000001 * 0.1\n",
    "multi = 100 * 1\n",
    "dec = round(dec * multi)\n",
    "dec = dec/multi\n",
    "print(dec)"
   ]
  },
  {
   "cell_type": "code",
   "execution_count": 5,
   "metadata": {},
   "outputs": [
    {
     "data": {
      "text/plain": [
       "(14142135623730950488016887242096980785696718753769480731766797379907324784621070388503875343276415727,\n",
       " 1.4142135623730951)"
      ]
     },
     "execution_count": 5,
     "metadata": {},
     "output_type": "execute_result"
    }
   ],
   "source": [
    "y = 1.4142135623730954\n",
    "x = 14142135623730950488016887242096980785696718753769480731766797379907324784621070388503875343276415727\n",
    "x2 = 1.4142135623730950488016887242096980785696718753769480731766797379907324784621070388503875343276415727\n",
    "x, x2"
   ]
  },
  {
   "cell_type": "markdown",
   "metadata": {},
   "source": [
    "[2] https://kodify.net/python/math/round-integers/ (for how to use round to get whole number)\n",
    "[3] https://stackoverflow.com/questions/41383787/round-down-to-2-decimal-in-python; from MSeifert (for getting more accurate floating point numbers)"
   ]
  },
  {
   "cell_type": "code",
   "execution_count": 23,
   "metadata": {},
   "outputs": [],
   "source": [
    "import math"
   ]
  },
  {
   "cell_type": "code",
   "execution_count": 25,
   "metadata": {},
   "outputs": [
    {
     "data": {
      "text/plain": [
       "1.4142135623730951"
      ]
     },
     "execution_count": 25,
     "metadata": {},
     "output_type": "execute_result"
    }
   ],
   "source": [
    "math.sqrt(2)"
   ]
  },
  {
   "cell_type": "code",
   "execution_count": 31,
   "metadata": {},
   "outputs": [
    {
     "data": {
      "text/plain": [
       "(2.000000000000001, 2.0000000000000004)"
      ]
     },
     "execution_count": 31,
     "metadata": {},
     "output_type": "execute_result"
    }
   ],
   "source": [
    "a = (1.4142135623730954)**2\n",
    "b = (1.4142135623730951)**2\n",
    "\n",
    "a, b"
   ]
  },
  {
   "cell_type": "code",
   "execution_count": null,
   "metadata": {},
   "outputs": [],
   "source": []
  }
 ],
 "metadata": {
  "kernelspec": {
   "display_name": "Python 3",
   "language": "python",
   "name": "python3"
  },
  "language_info": {
   "codemirror_mode": {
    "name": "ipython",
    "version": 3
   },
   "file_extension": ".py",
   "mimetype": "text/x-python",
   "name": "python",
   "nbconvert_exporter": "python",
   "pygments_lexer": "ipython3",
   "version": "3.8.3"
  }
 },
 "nbformat": 4,
 "nbformat_minor": 4
}
