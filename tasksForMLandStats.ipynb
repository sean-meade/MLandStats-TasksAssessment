{
 "cells": [
  {
   "cell_type": "code",
   "execution_count": 5,
   "metadata": {},
   "outputs": [
    {
     "name": "stdout",
     "output_type": "stream",
     "text": [
      "35.5\n"
     ]
    }
   ],
   "source": [
    "inputNo = 1234\n",
    "\n",
    "for i in range(inputNo):\n",
    "    if (i * i == inputNo):\n",
    "        print(i)\n",
    "    if ((i * i < inputNo) and (((i + 1) * (i + 1)) > inputNo)):\n",
    "        print(i + 0.5)\n",
    "        square = i\n",
    "        for m in range(inputNo):\n",
    "            for n in range(0, 10):\n",
    "                if (square)\n",
    "                "
   ]
  },
  {
   "cell_type": "code",
   "execution_count": null,
   "metadata": {},
   "outputs": [],
   "source": []
  }
 ],
 "metadata": {
  "kernelspec": {
   "display_name": "Python 3",
   "language": "python",
   "name": "python3"
  },
  "language_info": {
   "codemirror_mode": {
    "name": "ipython",
    "version": 3
   },
   "file_extension": ".py",
   "mimetype": "text/x-python",
   "name": "python",
   "nbconvert_exporter": "python",
   "pygments_lexer": "ipython3",
   "version": "3.8.3"
  }
 },
 "nbformat": 4,
 "nbformat_minor": 4
}
