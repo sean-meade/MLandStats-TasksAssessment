{
 "cells": [
  {
   "cell_type": "markdown",
   "metadata": {},
   "source": [
    "My function below named `sqrt2()` is a function that determines the square root of a number (the variable named `inputNum`). The task is to determine the square root of 2 to 100 decimal places. Although I think the function is capable of this the task has stipulated that no modules can be imported to complete the task I haven't been able to find a way to save a floating number larger then 15 decimal places. It is currently up to 16 decimal places of accuracy.\n",
    "\n",
    "It starts by determining what I have named the `squareBase`. The `squareBase` is an integer that when squared is the nearest to the number being investigated (`inputNum`). It does this by looping through the numbers from 1 to the `inputNum` and compares the square of each number (`n`) and checks to see if it's less then the input number (`inputNum`):\n",
    "\n",
    "$$ n \\times n < inputNum $$\n",
    "\n",
    "It also checks if the next number (`n + 1`) squared is greater then the input number (`inputNum`):\n",
    "\n",
    "$$ (n + 1) \\times (n + 1) > inputNum $$\n",
    "\n",
    "If both the above statements are true then the integer part of the square root of `inputNum` is `n` and is set to the variable named `squareBase`. \n",
    "\n",
    "\n",
    "From here we have to determine the numbers after the decimal point. We do this in a similar way but it is a little more tricky due to decimal fractions. Unfortunately, most decimal fractions cannot be represented exactly as binary fractions [4]. Because of this I have had to reuse the same two lines of code to remove the tail end of the approximation to reduce inaccuracy. The code is structured as follows. It takes the inaccurate number (we'll call this `approx`)  "
   ]
  },
  {
   "cell_type": "code",
   "execution_count": 17,
   "metadata": {},
   "outputs": [],
   "source": [
    "inputNum = 2"
   ]
  },
  {
   "cell_type": "code",
   "execution_count": 23,
   "metadata": {},
   "outputs": [],
   "source": [
    "def sqrt2(num):\n",
    "    # Establish square base to be accessed by whole function\n",
    "    squareBase = 0\n",
    "    \n",
    "    # Determine the squareBase (integer that when squared is the closest to num)\n",
    "    for n in range(1, num):\n",
    "        if (n * n < num) and ((n + 1) * (n + 1) > num):\n",
    "            squareBase = n\n",
    "    \n",
    "    # Establish decimal quantity variable\n",
    "    decimal = 1\n",
    "    \n",
    "    def approxFix(a, multi):\n",
    "        a = round(a * multi)\n",
    "        a = a/multi\n",
    "        return a\n",
    "    \n",
    "    # \n",
    "    for decPlace in range(1, 101):\n",
    "        decimal = decimal * 0.1\n",
    "        multi = 10**decPlace\n",
    "        decimal = approxFix(decimal, multi)\n",
    "        for decNum in range(1, 10):\n",
    "            decimalNumber = decimal * decNum\n",
    "            decimalNumberPlus = decimal * (decNum + 1)\n",
    "            testSquare = squareBase + decimalNumber\n",
    "            testSquare = approxFix(testSquare, multi)\n",
    "            testSquarePlus = squareBase + round(decimalNumberPlus, decPlace)\n",
    "            if (((testSquare * testSquare) < num) and ((testSquarePlus * testSquarePlus) > num)):\n",
    "                addedDecimal = (decimal * (decNum))\n",
    "                addedDecimal = approxFix(addedDecimal, multi)\n",
    "                squareBase = squareBase + addedDecimal\n",
    "                squareBase = approxFix(squareBase, multi)\n",
    "                break\n",
    "    print(squareBase)"
   ]
  },
  {
   "cell_type": "code",
   "execution_count": 24,
   "metadata": {},
   "outputs": [
    {
     "name": "stdout",
     "output_type": "stream",
     "text": [
      "1.414213562373095\n"
     ]
    }
   ],
   "source": [
    "sqrt2(inputNum)"
   ]
  },
  {
   "cell_type": "code",
   "execution_count": null,
   "metadata": {},
   "outputs": [],
   "source": [
    "1.4142135623730954\n",
    "dec = 0.1000000000000001 * 0.1\n",
    "multi = 100 * 1\n",
    "dec = round(dec * multi)\n",
    "dec = dec/multi\n",
    "print(dec)"
   ]
  },
  {
   "cell_type": "code",
   "execution_count": 5,
   "metadata": {},
   "outputs": [
    {
     "data": {
      "text/plain": [
       "(14142135623730950488016887242096980785696718753769480731766797379907324784621070388503875343276415727,\n",
       " 1.4142135623730951)"
      ]
     },
     "execution_count": 5,
     "metadata": {},
     "output_type": "execute_result"
    }
   ],
   "source": [
    "y = 1.4142135623730954\n",
    "x = 14142135623730950488016887242096980785696718753769480731766797379907324784621070388503875343276415727\n",
    "x2 = 1.4142135623730950488016887242096980785696718753769480731766797379907324784621070388503875343276415727\n",
    "x, x2"
   ]
  },
  {
   "cell_type": "markdown",
   "metadata": {},
   "source": [
    "[1]https://www.w3schools.com/python/ref_func_round.asp (for rounding number)\n",
    "[2] https://kodify.net/python/math/round-integers/ (for how to use round to get whole number)\n",
    "[3] https://stackoverflow.com/questions/41383787/round-down-to-2-decimal-in-python; from MSeifert (for getting more accurate floating point numbers)\n",
    "[4] https://docs.python.org/3/tutorial/floatingpoint.html (to explain floating point point numbers)"
   ]
  },
  {
   "cell_type": "code",
   "execution_count": 23,
   "metadata": {},
   "outputs": [],
   "source": [
    "import math"
   ]
  },
  {
   "cell_type": "code",
   "execution_count": 25,
   "metadata": {},
   "outputs": [
    {
     "data": {
      "text/plain": [
       "1.4142135623730951"
      ]
     },
     "execution_count": 25,
     "metadata": {},
     "output_type": "execute_result"
    }
   ],
   "source": [
    "math.sqrt(2)"
   ]
  },
  {
   "cell_type": "code",
   "execution_count": 20,
   "metadata": {},
   "outputs": [
    {
     "data": {
      "text/plain": [
       "(2.000000000000001, 2.0000000000000004)"
      ]
     },
     "execution_count": 20,
     "metadata": {},
     "output_type": "execute_result"
    }
   ],
   "source": [
    "a = (1.4142135623730954)**2\n",
    "b = (1.4142135623730951)**2\n",
    "\n",
    "a, b"
   ]
  },
  {
   "cell_type": "code",
   "execution_count": null,
   "metadata": {},
   "outputs": [],
   "source": []
  }
 ],
 "metadata": {
  "kernelspec": {
   "display_name": "Python 3",
   "language": "python",
   "name": "python3"
  },
  "language_info": {
   "codemirror_mode": {
    "name": "ipython",
    "version": 3
   },
   "file_extension": ".py",
   "mimetype": "text/x-python",
   "name": "python",
   "nbconvert_exporter": "python",
   "pygments_lexer": "ipython3",
   "version": "3.8.3"
  }
 },
 "nbformat": 4,
 "nbformat_minor": 4
}
