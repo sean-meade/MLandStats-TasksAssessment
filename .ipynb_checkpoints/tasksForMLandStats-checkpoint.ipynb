{
 "cells": [
  {
   "cell_type": "markdown",
   "metadata": {},
   "source": [
    "# Tasks for Machine Learning & Statistics Module\n",
    "\n",
    "My submission for the solutions to the Tasks Assessment. The author is Seán Meade (G00376471@gmit.ie).\n",
    "\n",
    "***\n",
    "\n",
    "*Modules can't be used to complete the tasks but the following modules are used to explain certain parts and test our code.*"
   ]
  },
  {
   "cell_type": "code",
   "execution_count": 1,
   "metadata": {},
   "outputs": [],
   "source": [
    "import matplotlib.pyplot as plt\n",
    "import numpy as np"
   ]
  },
  {
   "cell_type": "markdown",
   "metadata": {},
   "source": [
    "**<ins>Task 1</ins>**:\n",
    ">**October 5th, 2020**: Write a Python function called sqrt2 that calculates and\n",
    "prints to the screen the square root of 2 to 100 decimal places. Your code should\n",
    "not depend on any module from the standard library or otherwise. You should\n",
    "research the task first and include references and a description of your algorithm.\n",
    "\n",
    "#### Introduction\n",
    "\n",
    "The square root of a real number $ S $, usually denoted as $ \\sqrt{S} $, is a non-negative number that when multiplied by itself will give you $ S $. Algebraically, this means a procedure for finding the non-negative root of the equation $ f(x) = x^{2} - S $ when $ f(x) = 0 $ (i.e. $ x^{2} - S = 0 $). When we subtract both sides by $ S $ [1] we're given:\n",
    "\n",
    "$$ x^{2} = S $$\n",
    "\n",
    "because a sqaured number can't be negative. Then by taking the square root of both sides (which is equivalent to putting something to the power of a half, $ x^{ \\frac{ 1 }{ 2 } } $) we are left with the square root of $ S $:\n",
    "\n",
    "$$ x = \\sqrt{S} \\;\\; or \\;\\; x = S^{ \\frac{ 1 }{ 2 } } $$\n",
    "\n",
    "This is the representation of the square root ($ x $) of a number ($ S $). Where, like we said above, when $ x $ is squared (or multiplied by itself) it produces $ S $.\n",
    "\n",
    "Every real number has two square roots. The square root we're interested in is the principal irrational number (not expressible as a ratio of two integers). Due to the fact that it's an irrational number only an approximation of the square root can be calulated. It is important to note that even with a perfect square (for example $ 2 = \\sqrt{4} $) the different methods for calulating the square root may only return an approximation [1]."
   ]
  },
  {
   "cell_type": "markdown",
   "metadata": {},
   "source": [
    "#### Method\n",
    "\n",
    "There are many ways to calculate the square root of a number (or at least the approximation). In this exercise we will use Newton's method, the most suited for programmatic calculation[1]. \n",
    "\n",
    "Newtons method is actually a procedure used for solving equations of the form $ f(x) = 0 $. Which is perfect for us.\n",
    "\n",
    "It works as follows. First we need a guess of the square root of the real number in question. In math talk it means we need a guess of $ x $ to start with. Preferably it should be as close to $ S $ as we can. We call this guess $ x_{n} $ and we use this along with Newton's method to find a closer approximation of the square root, $ x_{ n + 1 } $. "
   ]
  },
  {
   "cell_type": "markdown",
   "metadata": {},
   "source": [
    "#### Method\n",
    "\n",
    "There are many ways to calculate the square root of a number (or at least the approximation). In this exercise we will use Newton's method, the most suited for programmatic calculation[1]. \n",
    "\n",
    "Newtons method is actually a procedure used for solving equations of the form $ f(x) = 0 $. Which is perfect for us.\n",
    "\n",
    "It works as follows. First we need a guess of the square root of the real number in question. In math talk it means we need a guess of $ x $ to start with. Preferably it should be as close to $ S $ as we can. We call this guess $ x_{n} $ and we use this along with Newton's method to find a closer approximation of the square root, $ x_{ n + 1 } $ [2]. \n",
    "\n",
    "Let's say our $ S $ is 100. We know that the square root, $ x $ is 10 but what if we didn't. Say we guessed the square root as 33. This 33 is now $ x_{ n } $. If we were to plot this in terms of our function $ f(x) $ our $ x $ and $ y $ coordinates would be (33, $ f( $33$ ) $).\n",
    "\n",
    "We can show (using matplotlib) the equation of the line $ f(x) = x^{ 2 } - S $ (shown as the blue line below) along with where our guess lands (the red square)."
   ]
  },
  {
   "cell_type": "code",
   "execution_count": 19,
   "metadata": {},
   "outputs": [
    {
     "data": {
      "image/png": "[encoded data removed]",
      "text/plain": [
       "<Figure size 432x288 with 1 Axes>"
      ]
     },
     "metadata": {
      "needs_background": "light"
     },
     "output_type": "display_data"
    }
   ],
   "source": [
    "# S\n",
    "S = 100\n",
    "\n",
    "# Our first guess of x\n",
    "x_n = [33]\n",
    "\n",
    "xs = range(0, int(S * 0.4))\n",
    "\n",
    "# Our function f(x) = x^2 - S\n",
    "def f(xs):\n",
    "    ys = []\n",
    "    for i in range(0, len(xs)):\n",
    "        ys.append((xs[i])**2 - S)\n",
    "        \n",
    "    return ys\n",
    "\n",
    "ys = f(xs)\n",
    "\n",
    "# y from our function above\n",
    "y = f(x_n)\n",
    "\n",
    "Sx = [S] * int(S * 0.4)\n",
    "\n",
    "\n",
    "plt.plot(xs, ys, 'b-', x_n, y, 'rs', xs, Sx, 'g-')\n",
    "plt.show()"
   ]
  },
  {
   "cell_type": "markdown",
   "metadata": {},
   "source": [
    "We can see from the above graph that our guess was way off. The x-axis represents the number we want to square ($ x $) and the y-axis represents the square of that number ($ S $). From the graph we can see that the square our guess of 33 is close to 1,000 (it's actually 1,089). This is where Newton's method comes into its own. The green line extends out from where the 100 mark is. Where the green line intercepts the blue curve is where our square root lies. You'll see if you change the value of our guess (in math terms $ x_{ n } $ and in our code above `x_n`) our red indecator will get closer or further from this intercept the closer or further you get from this intercept.\n",
    "\n",
    "This is exacly what Newton's methid does. It starts with a guess and, using the method we will look at below, gets closer and closer to this intercept (but never actually touches it, hence the approximation of the square root).\n",
    "\n",
    "So how do we find the next (hopefully closer) approximation. Newton's method uses this starting point ($ x_{ n } $) and gets the tangent line to the function $ f(x) = x^{ 2 } - S $ (the blue line above) and where this line cuts the x-axis is where is our new approximation $ x_{ n + 1 } $ is[2].\n",
    "\n",
    "The equation of this tangent line is:\n",
    "\n",
    "$$ y = f(x_n) + f'(x_n)(x - x_n) $$\n",
    "\n",
    "Where:\n",
    "\n",
    "$$ f'(x) = 2x $$\n",
    "\n"
   ]
  },
  {
   "cell_type": "markdown",
   "metadata": {},
   "source": [
    "The algorithm starts with a guess of $ x $ named below as $ x_{ n } $ where $ x_{ n } > 0 $. We use this to calculate a more accuate approximation of the square root ($ x_{ n + 1 } $).\n",
    "\n",
    "$$ x_{ n + 1 } = \\frac{ 1 }{ 2 } \\left( x_{ n } + \\frac{ S }{ x_{ n } } \\right) $$"
   ]
  },
  {
   "cell_type": "code",
   "execution_count": 24,
   "metadata": {},
   "outputs": [
    {
     "name": "stdout",
     "output_type": "stream",
     "text": [
      "The first iteration is 50.5\n",
      "The second iteration is 26.24009900990099\n",
      "The third iteration is 15.025530119986813\n",
      "The fourth iteration is 10.840434673026925\n"
     ]
    }
   ],
   "source": [
    "# Find the square root of S\n",
    "S = 100 # square root = 10\n",
    "\n",
    "x_n = 1\n",
    "\n",
    "x_n1 = 0.5 * (x_n + S/x_n)\n",
    "print(\"The first iteration is {}\".format(x_n1))\n",
    "\n",
    "x_n2 = 0.5 * (x_n1 + S/x_n1)\n",
    "print(\"The second iteration is {}\".format(x_n2))\n",
    "\n",
    "x_n3 = 0.5 * (x_n2 + S/x_n2)\n",
    "print(\"The third iteration is {}\".format(x_n3))\n",
    "\n",
    "x_n4 = 0.5 * (x_n3 + S/x_n3)\n",
    "print(\"The fourth iteration is {}\".format(x_n4))"
   ]
  },
  {
   "cell_type": "markdown",
   "metadata": {},
   "source": [
    "[1] https://en.wikipedia.org/wiki/Methods_of_computing_square_roots\n",
    "\n",
    "[2] https://www.math.upenn.edu/~kazdan/202F09/sqrt.pdf\n",
    "\n",
    "[3] https://math.mit.edu/~stevenj/18.335/newton-sqrt.pdf"
   ]
  },
  {
   "cell_type": "markdown",
   "metadata": {},
   "source": [
    "My function below named `sqrt2()` is a function that determines the square root of a number (the variable named `inputNum`). The task is to determine the square root of 2 to 100 decimal places. Although I think the function is capable of this the task has stipulated that no modules can be imported to complete the task I haven't been able to find a way to save a floating number larger then 15 decimal places. It is currently up to 16 decimal places of accuracy.\n",
    "\n",
    "It starts by determining what I have named the `squareBase`. The `squareBase` is an integer that when squared is the nearest to the number being investigated (`inputNum`). It does this by looping through the numbers from 1 to the `inputNum` and compares the square of each number (`n`) and checks to see if it's less then the input number (`inputNum`):\n",
    "\n",
    "$$ n \\times n < inputNum $$\n",
    "\n",
    "It also checks if the next number (`n + 1`) squared is greater then the input number (`inputNum`):\n",
    "\n",
    "$$ (n + 1) \\times (n + 1) > inputNum $$\n",
    "\n",
    "If both the above statements are true then the integer part of the square root of `inputNum` is `n` and is set to the variable named `squareBase`. \n",
    "\n",
    "\n",
    "From here we have to determine the numbers after the decimal point. We do this in a similar way but it is a little more tricky due to decimal fractions. Unfortunately, most decimal fractions cannot be represented exactly as binary fractions [4]. Because of this I have had to reuse the same two lines of code to remove the tail end of the approximation to reduce inaccuracy. The code is structured as follows. It takes the inaccurate number (we'll call this `approx`)  "
   ]
  },
  {
   "cell_type": "code",
   "execution_count": 4,
   "metadata": {},
   "outputs": [],
   "source": [
    "inputNum = 2"
   ]
  },
  {
   "cell_type": "code",
   "execution_count": 22,
   "metadata": {},
   "outputs": [],
   "source": [
    "def sqrt2(num):\n",
    "    # Establish square base to be accessed by whole function\n",
    "    squareBase = 0\n",
    "    \n",
    "    # Determine the squareBase (integer that when squared is the closest to num)\n",
    "    for n in range(1, num):\n",
    "        if (n * n < num) and ((n + 1) * (n + 1) > num):\n",
    "            squareBase = n\n",
    "    \n",
    "    # Establish decimal quantity variable\n",
    "    decimal = 1\n",
    "    \n",
    "    # Go from decimal place 1 to 100\n",
    "    for decPlace in range(1, 101):\n",
    "        # Create the decimal place multiplier\n",
    "        decimal = decimal * 0.1\n",
    "        # Create multiple of 10 for approxFix function\n",
    "        multi = 10**decPlace\n",
    "        \n",
    "        # Loop through the possible values of the decimal place (zeros are skipped and show up \n",
    "        # when the next decimal is added).\n",
    "        for decNum in range(1, 10):\n",
    "            # Create decimal to add to testSquare for testing in next if statement \n",
    "            decimalNumber = decimal * decNum\n",
    "            # Create decimal to add to testSquarePlus for testing in next if statement \n",
    "            decimalNumberPlus = decimal * (decNum + 1)\n",
    "            # Create the number to square to check if less then input number num\n",
    "            testSquare = squareBase + decimalNumber\n",
    "            # Create the number to square to check if more then input number num\n",
    "            testSquarePlus = squareBase + decimalNumberPlus\n",
    "            \n",
    "            # Check to see if the number (at the current decimal place value) squared is less then the input number (num)\n",
    "            # Check to see if the number (at the current decimal place value + 1) squared is more then the input number (num)\n",
    "            if (((testSquare * testSquare) < num) and ((testSquarePlus * testSquarePlus) > num)):\n",
    "                # If the above is true then the decimalNumber is the next to be added to the approximation of \n",
    "                # square root of num. Update value of square approximation\n",
    "                squareBase = squareBase + decimalNumber\n",
    "                \n",
    "    print(squareBase)"
   ]
  },
  {
   "cell_type": "code",
   "execution_count": 23,
   "metadata": {},
   "outputs": [
    {
     "name": "stdout",
     "output_type": "stream",
     "text": [
      "1.414213562373095\n"
     ]
    }
   ],
   "source": [
    "sqrt2(inputNum)"
   ]
  },
  {
   "cell_type": "code",
   "execution_count": 7,
   "metadata": {},
   "outputs": [
    {
     "name": "stdout",
     "output_type": "stream",
     "text": [
      "0.01\n"
     ]
    }
   ],
   "source": [
    "1.414213562373095\n",
    "1.4142135623730954\n",
    "dec = 0.1000000000000001 * 0.1\n",
    "multi = 100 * 1\n",
    "dec = round(dec * multi)\n",
    "dec = dec/multi\n",
    "print(dec)"
   ]
  },
  {
   "cell_type": "code",
   "execution_count": 8,
   "metadata": {},
   "outputs": [
    {
     "data": {
      "text/plain": [
       "(14142135623730950488016887242096980785696718753769480731766797379907324784621070388503875343276415727,\n",
       " 1.4142135623730951)"
      ]
     },
     "execution_count": 8,
     "metadata": {},
     "output_type": "execute_result"
    }
   ],
   "source": [
    "y = 1.4142135623730954\n",
    "x = 14142135623730950488016887242096980785696718753769480731766797379907324784621070388503875343276415727\n",
    "x2 = 1.4142135623730950488016887242096980785696718753769480731766797379907324784621070388503875343276415727\n",
    "x, x2"
   ]
  },
  {
   "cell_type": "markdown",
   "metadata": {},
   "source": [
    "[]https://www.w3schools.com/python/ref_func_round.asp (for rounding number)\n",
    "[] https://kodify.net/python/math/round-integers/ (for how to use round to get whole number)\n",
    "[] https://stackoverflow.com/questions/41383787/round-down-to-2-decimal-in-python; from MSeifert (for getting more accurate floating point numbers)\n",
    "[] https://docs.python.org/3/tutorial/floatingpoint.html (to explain floating point point numbers)"
   ]
  },
  {
   "cell_type": "code",
   "execution_count": 9,
   "metadata": {},
   "outputs": [],
   "source": [
    "import math"
   ]
  },
  {
   "cell_type": "code",
   "execution_count": 10,
   "metadata": {},
   "outputs": [
    {
     "data": {
      "text/plain": [
       "1.4142135623730951"
      ]
     },
     "execution_count": 10,
     "metadata": {},
     "output_type": "execute_result"
    }
   ],
   "source": [
    "math.sqrt(2)"
   ]
  },
  {
   "cell_type": "code",
   "execution_count": 11,
   "metadata": {},
   "outputs": [
    {
     "data": {
      "text/plain": [
       "(2.000000000000001, 2.0000000000000004)"
      ]
     },
     "execution_count": 11,
     "metadata": {},
     "output_type": "execute_result"
    }
   ],
   "source": [
    "a = (1.4142135623730954)**2\n",
    "b = (1.4142135623730951)**2\n",
    "\n",
    "a, b"
   ]
  },
  {
   "cell_type": "code",
   "execution_count": 21,
   "metadata": {},
   "outputs": [
    {
     "data": {
      "text/plain": [
       "1.4142135623730951"
      ]
     },
     "execution_count": 21,
     "metadata": {},
     "output_type": "execute_result"
    }
   ],
   "source": [
    "2**0.5"
   ]
  },
  {
   "cell_type": "code",
   "execution_count": null,
   "metadata": {},
   "outputs": [],
   "source": []
  }
 ],
 "metadata": {
  "kernelspec": {
   "display_name": "Python 3",
   "language": "python",
   "name": "python3"
  },
  "language_info": {
   "codemirror_mode": {
    "name": "ipython",
    "version": 3
   },
   "file_extension": ".py",
   "mimetype": "text/x-python",
   "name": "python",
   "nbconvert_exporter": "python",
   "pygments_lexer": "ipython3",
   "version": "3.8.3"
  }
 },
 "nbformat": 4,
 "nbformat_minor": 4
}
